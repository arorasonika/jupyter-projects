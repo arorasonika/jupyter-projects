{
 "cells": [
  {
   "cell_type": "markdown",
   "metadata": {},
   "source": [
    "# Traffic Analysis\n",
    "\n",
    "This notebook belongs to Sonika Arora. \n",
    "\n",
    "Created on: September 21, 2018 Friday 9:00pm "
   ]
  },
  {
   "cell_type": "code",
   "execution_count": 18,
   "metadata": {},
   "outputs": [],
   "source": [
    "\n",
    "import numpy as np\n",
    "from datascience import *\n",
    "\n",
    "# These lines set up graphing capabilities.\n",
    "import matplotlib\n",
    "%matplotlib inline\n",
    "import matplotlib.pyplot as plt\n",
    "plt.style.use('fivethirtyeight')\n",
    "import warnings\n",
    "warnings.simplefilter('ignore', FutureWarning)\n",
    "from urllib.request import urlopen\n",
    "from ipywidgets import interact, interactive, fixed, interact_manual\n",
    "import ipywidgets as widgets\n",
    "\n"
   ]
  },
  {
   "cell_type": "code",
   "execution_count": 19,
   "metadata": {},
   "outputs": [],
   "source": [
    "average_daily_traffic_data = Table.read_table(\"Average_Daily_Traffic_Counts.csv\")"
   ]
  },
  {
   "cell_type": "markdown",
   "metadata": {},
   "source": [
    "## About the Data\n",
    "\n",
    "Average Daily Traffic (ADT) counts are analogous to a census count of vehicles on city streets. These counts provide a close approximation to the actual number of vehicles passing through a given location on an average weekday. Since it is not possible to count every vehicle on every city street, sample counts are taken along larger streets to get an estimate of traffic on half-mile or one-mile street segments. ADT counts are used by city planners, transportation engineers, real-estate developers, marketers and many others for myriad planning and operational purposes. Data Owner: Transportation. Time Period: 2006. Frequency: A citywide count is taken approximately every 10 years.\n",
    "\n",
    "#### Access and Use Information: This dataset is intended for public access and use."
   ]
  },
  {
   "cell_type": "code",
   "execution_count": 20,
   "metadata": {},
   "outputs": [
    {
     "data": {
      "text/html": [
       "<table border=\"1\" class=\"dataframe\">\n",
       "    <thead>\n",
       "        <tr>\n",
       "            <th>ID </th> <th>Traffic Volume Count Location  Address</th> <th>Street</th> <th>Date of Count</th> <th>Total Passing Vehicle Volume</th> <th>Vehicle Volume By Each Direction of Traffic</th> <th>Latitude</th> <th>Longitude</th> <th>Location</th>\n",
       "        </tr>\n",
       "    </thead>\n",
       "    <tbody>\n",
       "        <tr>\n",
       "            <td>2   </td> <td>1708 West                             </td> <td>71st Street   </td> <td>03/09/2006   </td> <td>14600                       </td> <td>East Bound: 6900 / West Bound: 7700        </td> <td>41.7649 </td> <td>-87.6666 </td> <td>(41.764877, -87.666635)</td>\n",
       "        </tr>\n",
       "        <tr>\n",
       "            <td>3   </td> <td>1275 West                             </td> <td>71st Street   </td> <td>02/28/2006   </td> <td>16500                       </td> <td>East Bound: 7800 / West Bound: 8700        </td> <td>41.765  </td> <td>-87.6571 </td> <td>(41.765008, -87.657067)</td>\n",
       "        </tr>\n",
       "        <tr>\n",
       "            <td>5   </td> <td>920 West                              </td> <td>71st Street   </td> <td>02/28/2006   </td> <td>18200                       </td> <td>East Bound: 8800 / West Bound: 9400        </td> <td>41.7652 </td> <td>-87.6478 </td> <td>(41.765153, -87.647751)</td>\n",
       "        </tr>\n",
       "        <tr>\n",
       "            <td>6   </td> <td>758 West                              </td> <td>71st Street   </td> <td>02/28/2006   </td> <td>21600                       </td> <td>East Bound: 10400 / West Bound: 11200      </td> <td>41.7652 </td> <td>-87.6444 </td> <td>(41.765204, -87.644371)</td>\n",
       "        </tr>\n",
       "        <tr>\n",
       "            <td>7   </td> <td>240 East                              </td> <td>71st St       </td> <td>02/28/2006   </td> <td>18300                       </td> <td>East Bound: 9000 / West Bound: 9300        </td> <td>41.7656 </td> <td>-87.6185 </td> <td>(41.765644, -87.618476)</td>\n",
       "        </tr>\n",
       "        <tr>\n",
       "            <td>9   </td> <td>2050 East                             </td> <td>71st St       </td> <td>03/09/2006   </td> <td>8600                        </td> <td>East Bound: 3600 / West Bound: 5000        </td> <td>41.7663 </td> <td>-87.5742 </td> <td>(41.76626, -87.574226) </td>\n",
       "        </tr>\n",
       "        <tr>\n",
       "            <td>10  </td> <td>8539 South                            </td> <td>Commercial Ave</td> <td>03/07/2006   </td> <td>10000                       </td> <td>North Bound: 5000 / South Bound: 5000      </td> <td>41.7398 </td> <td>-87.5515 </td> <td>(41.739836, -87.551476)</td>\n",
       "        </tr>\n",
       "        <tr>\n",
       "            <td>11  </td> <td>8933 South                            </td> <td>Commercial Ave</td> <td>03/07/2006   </td> <td>10500                       </td> <td>North Bound: 4900 / South Bound: 5600      </td> <td>41.7327 </td> <td>-87.5513 </td> <td>(41.732725, -87.55132) </td>\n",
       "        </tr>\n",
       "        <tr>\n",
       "            <td>12  </td> <td>9379 South                            </td> <td>Commercial Ave</td> <td>03/07/2006   </td> <td>12700                       </td> <td>North Bound: 6000 / South Bound: 6700      </td> <td>41.7244 </td> <td>-87.5511 </td> <td>(41.724444, -87.551124)</td>\n",
       "        </tr>\n",
       "        <tr>\n",
       "            <td>13  </td> <td>9730 South                            </td> <td>Commercial Ave</td> <td>03/07/2006   </td> <td>9000                        </td> <td>North Bound: 4000 / South Bound: 5000      </td> <td>41.7182 </td> <td>-87.551  </td> <td>(41.718183, -87.551016)</td>\n",
       "        </tr>\n",
       "    </tbody>\n",
       "</table>\n",
       "<p>... (1269 rows omitted)</p>"
      ],
      "text/plain": [
       "ID   | Traffic Volume Count Location  Address | Street         | Date of Count | Total Passing Vehicle Volume | Vehicle Volume By Each Direction of Traffic | Latitude | Longitude | Location\n",
       "2    | 1708 West                              | 71st Street    | 03/09/2006    | 14600                        | East Bound: 6900 / West Bound: 7700         | 41.7649  | -87.6666  | (41.764877, -87.666635)\n",
       "3    | 1275 West                              | 71st Street    | 02/28/2006    | 16500                        | East Bound: 7800 / West Bound: 8700         | 41.765   | -87.6571  | (41.765008, -87.657067)\n",
       "5    | 920 West                               | 71st Street    | 02/28/2006    | 18200                        | East Bound: 8800 / West Bound: 9400         | 41.7652  | -87.6478  | (41.765153, -87.647751)\n",
       "6    | 758 West                               | 71st Street    | 02/28/2006    | 21600                        | East Bound: 10400 / West Bound: 11200       | 41.7652  | -87.6444  | (41.765204, -87.644371)\n",
       "7    | 240 East                               | 71st St        | 02/28/2006    | 18300                        | East Bound: 9000 / West Bound: 9300         | 41.7656  | -87.6185  | (41.765644, -87.618476)\n",
       "9    | 2050 East                              | 71st St        | 03/09/2006    | 8600                         | East Bound: 3600 / West Bound: 5000         | 41.7663  | -87.5742  | (41.76626, -87.574226)\n",
       "10   | 8539 South                             | Commercial Ave | 03/07/2006    | 10000                        | North Bound: 5000 / South Bound: 5000       | 41.7398  | -87.5515  | (41.739836, -87.551476)\n",
       "11   | 8933 South                             | Commercial Ave | 03/07/2006    | 10500                        | North Bound: 4900 / South Bound: 5600       | 41.7327  | -87.5513  | (41.732725, -87.55132)\n",
       "12   | 9379 South                             | Commercial Ave | 03/07/2006    | 12700                        | North Bound: 6000 / South Bound: 6700       | 41.7244  | -87.5511  | (41.724444, -87.551124)\n",
       "13   | 9730 South                             | Commercial Ave | 03/07/2006    | 9000                         | North Bound: 4000 / South Bound: 5000       | 41.7182  | -87.551   | (41.718183, -87.551016)\n",
       "... (1269 rows omitted)"
      ]
     },
     "execution_count": 20,
     "metadata": {},
     "output_type": "execute_result"
    }
   ],
   "source": [
    "average_daily_traffic_data"
   ]
  },
  {
   "cell_type": "markdown",
   "metadata": {},
   "source": [
    "# Analysis of the Traffic data\n",
    "\n",
    "#### Based on the above data, we can questions like: \n",
    "\n",
    "1. What are the days when each street is most busy? \n",
    "\n",
    "2. Do we see a difference in the number of vehicles on the road on weekdays vs. weekends?\n",
    "\n",
    "3. Which is the main street that most travellers prefer to take?\n",
    "\n",
    "4. Which directions are affected most by traffic? \n",
    "\n",
    "5. Can we graph the number of vehicles travelling in each direction for a particular street? \n"
   ]
  },
  {
   "cell_type": "code",
   "execution_count": null,
   "metadata": {},
   "outputs": [],
   "source": []
  }
 ],
 "metadata": {
  "kernelspec": {
   "display_name": "Python 3",
   "language": "python",
   "name": "python3"
  },
  "language_info": {
   "codemirror_mode": {
    "name": "ipython",
    "version": 3
   },
   "file_extension": ".py",
   "mimetype": "text/x-python",
   "name": "python",
   "nbconvert_exporter": "python",
   "pygments_lexer": "ipython3",
   "version": "3.6.5"
  }
 },
 "nbformat": 4,
 "nbformat_minor": 2
}
