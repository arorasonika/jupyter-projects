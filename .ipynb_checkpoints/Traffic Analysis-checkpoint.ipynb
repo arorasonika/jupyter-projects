{
 "cells": [
  {
   "cell_type": "markdown",
   "metadata": {},
   "source": [
    "# Traffic Analysis\n",
    "\n",
    "This notebook belongs to Sonika Arora. \n",
    "\n",
    "Created on: September 21, 2018 Friday 9:00pm "
   ]
  },
  {
   "cell_type": "code",
   "execution_count": 188,
   "metadata": {},
   "outputs": [],
   "source": [
    "import numpy as np\n",
    "from datascience import *\n",
    "from datetime import date\n",
    "import calendar\n",
    "\n",
    "# These lines set up graphing capabilities.\n",
    "import matplotlib\n",
    "%matplotlib inline\n",
    "import matplotlib.pyplot as plt\n",
    "plt.style.use('fivethirtyeight')\n",
    "import warnings\n",
    "warnings.simplefilter('ignore', FutureWarning)\n",
    "from urllib.request import urlopen\n",
    "from ipywidgets import interact, interactive, fixed, interact_manual\n",
    "import ipywidgets as widgets\n"
   ]
  },
  {
   "cell_type": "code",
   "execution_count": 189,
   "metadata": {},
   "outputs": [],
   "source": [
    "average_daily_traffic_data = Table.read_table(\"Average_Daily_Traffic_Counts.csv\")"
   ]
  },
  {
   "cell_type": "markdown",
   "metadata": {},
   "source": [
    "## About the Data\n",
    "\n",
    "Average Daily Traffic (ADT) counts are analogous to a census count of vehicles on city streets. These counts provide a close approximation to the actual number of vehicles passing through a given location on an average weekday. Since it is not possible to count every vehicle on every city street, sample counts are taken along larger streets to get an estimate of traffic on half-mile or one-mile street segments. ADT counts are used by city planners, transportation engineers, real-estate developers, marketers and many others for myriad planning and operational purposes. Data Owner: Transportation. Time Period: 2006. Frequency: A citywide count is taken approximately every 10 years.\n",
    "\n",
    "#### Access and Use Information: This dataset is intended for public access and use."
   ]
  },
  {
   "cell_type": "code",
   "execution_count": 190,
   "metadata": {},
   "outputs": [
    {
     "data": {
      "text/html": [
       "<table border=\"1\" class=\"dataframe\">\n",
       "    <thead>\n",
       "        <tr>\n",
       "            <th>ID </th> <th>Traffic Volume Count Location  Address</th> <th>Street</th> <th>Date of Count</th> <th>Total Passing Vehicle Volume</th> <th>Vehicle Volume By Each Direction of Traffic</th> <th>Latitude</th> <th>Longitude</th> <th>Location</th>\n",
       "        </tr>\n",
       "    </thead>\n",
       "    <tbody>\n",
       "        <tr>\n",
       "            <td>2   </td> <td>1708 West                             </td> <td>71st Street   </td> <td>03/09/2006   </td> <td>14600                       </td> <td>East Bound: 6900 / West Bound: 7700        </td> <td>41.7649 </td> <td>-87.6666 </td> <td>(41.764877, -87.666635)</td>\n",
       "        </tr>\n",
       "        <tr>\n",
       "            <td>3   </td> <td>1275 West                             </td> <td>71st Street   </td> <td>02/28/2006   </td> <td>16500                       </td> <td>East Bound: 7800 / West Bound: 8700        </td> <td>41.765  </td> <td>-87.6571 </td> <td>(41.765008, -87.657067)</td>\n",
       "        </tr>\n",
       "        <tr>\n",
       "            <td>5   </td> <td>920 West                              </td> <td>71st Street   </td> <td>02/28/2006   </td> <td>18200                       </td> <td>East Bound: 8800 / West Bound: 9400        </td> <td>41.7652 </td> <td>-87.6478 </td> <td>(41.765153, -87.647751)</td>\n",
       "        </tr>\n",
       "        <tr>\n",
       "            <td>6   </td> <td>758 West                              </td> <td>71st Street   </td> <td>02/28/2006   </td> <td>21600                       </td> <td>East Bound: 10400 / West Bound: 11200      </td> <td>41.7652 </td> <td>-87.6444 </td> <td>(41.765204, -87.644371)</td>\n",
       "        </tr>\n",
       "        <tr>\n",
       "            <td>7   </td> <td>240 East                              </td> <td>71st St       </td> <td>02/28/2006   </td> <td>18300                       </td> <td>East Bound: 9000 / West Bound: 9300        </td> <td>41.7656 </td> <td>-87.6185 </td> <td>(41.765644, -87.618476)</td>\n",
       "        </tr>\n",
       "        <tr>\n",
       "            <td>9   </td> <td>2050 East                             </td> <td>71st St       </td> <td>03/09/2006   </td> <td>8600                        </td> <td>East Bound: 3600 / West Bound: 5000        </td> <td>41.7663 </td> <td>-87.5742 </td> <td>(41.76626, -87.574226) </td>\n",
       "        </tr>\n",
       "        <tr>\n",
       "            <td>10  </td> <td>8539 South                            </td> <td>Commercial Ave</td> <td>03/07/2006   </td> <td>10000                       </td> <td>North Bound: 5000 / South Bound: 5000      </td> <td>41.7398 </td> <td>-87.5515 </td> <td>(41.739836, -87.551476)</td>\n",
       "        </tr>\n",
       "        <tr>\n",
       "            <td>11  </td> <td>8933 South                            </td> <td>Commercial Ave</td> <td>03/07/2006   </td> <td>10500                       </td> <td>North Bound: 4900 / South Bound: 5600      </td> <td>41.7327 </td> <td>-87.5513 </td> <td>(41.732725, -87.55132) </td>\n",
       "        </tr>\n",
       "        <tr>\n",
       "            <td>12  </td> <td>9379 South                            </td> <td>Commercial Ave</td> <td>03/07/2006   </td> <td>12700                       </td> <td>North Bound: 6000 / South Bound: 6700      </td> <td>41.7244 </td> <td>-87.5511 </td> <td>(41.724444, -87.551124)</td>\n",
       "        </tr>\n",
       "        <tr>\n",
       "            <td>13  </td> <td>9730 South                            </td> <td>Commercial Ave</td> <td>03/07/2006   </td> <td>9000                        </td> <td>North Bound: 4000 / South Bound: 5000      </td> <td>41.7182 </td> <td>-87.551  </td> <td>(41.718183, -87.551016)</td>\n",
       "        </tr>\n",
       "    </tbody>\n",
       "</table>\n",
       "<p>... (1269 rows omitted)</p>"
      ],
      "text/plain": [
       "ID   | Traffic Volume Count Location  Address | Street         | Date of Count | Total Passing Vehicle Volume | Vehicle Volume By Each Direction of Traffic | Latitude | Longitude | Location\n",
       "2    | 1708 West                              | 71st Street    | 03/09/2006    | 14600                        | East Bound: 6900 / West Bound: 7700         | 41.7649  | -87.6666  | (41.764877, -87.666635)\n",
       "3    | 1275 West                              | 71st Street    | 02/28/2006    | 16500                        | East Bound: 7800 / West Bound: 8700         | 41.765   | -87.6571  | (41.765008, -87.657067)\n",
       "5    | 920 West                               | 71st Street    | 02/28/2006    | 18200                        | East Bound: 8800 / West Bound: 9400         | 41.7652  | -87.6478  | (41.765153, -87.647751)\n",
       "6    | 758 West                               | 71st Street    | 02/28/2006    | 21600                        | East Bound: 10400 / West Bound: 11200       | 41.7652  | -87.6444  | (41.765204, -87.644371)\n",
       "7    | 240 East                               | 71st St        | 02/28/2006    | 18300                        | East Bound: 9000 / West Bound: 9300         | 41.7656  | -87.6185  | (41.765644, -87.618476)\n",
       "9    | 2050 East                              | 71st St        | 03/09/2006    | 8600                         | East Bound: 3600 / West Bound: 5000         | 41.7663  | -87.5742  | (41.76626, -87.574226)\n",
       "10   | 8539 South                             | Commercial Ave | 03/07/2006    | 10000                        | North Bound: 5000 / South Bound: 5000       | 41.7398  | -87.5515  | (41.739836, -87.551476)\n",
       "11   | 8933 South                             | Commercial Ave | 03/07/2006    | 10500                        | North Bound: 4900 / South Bound: 5600       | 41.7327  | -87.5513  | (41.732725, -87.55132)\n",
       "12   | 9379 South                             | Commercial Ave | 03/07/2006    | 12700                        | North Bound: 6000 / South Bound: 6700       | 41.7244  | -87.5511  | (41.724444, -87.551124)\n",
       "13   | 9730 South                             | Commercial Ave | 03/07/2006    | 9000                         | North Bound: 4000 / South Bound: 5000       | 41.7182  | -87.551   | (41.718183, -87.551016)\n",
       "... (1269 rows omitted)"
      ]
     },
     "execution_count": 190,
     "metadata": {},
     "output_type": "execute_result"
    }
   ],
   "source": [
    "average_daily_traffic_data"
   ]
  },
  {
   "cell_type": "markdown",
   "metadata": {},
   "source": [
    "# Analysis of the Traffic data\n",
    "\n",
    "#### Based on the above data, we can questions like: \n",
    "\n",
    "1. On what days were most counts conducted on each street?\n",
    "\n",
    "2. Do we see a difference in the number of vehicles on the road on weekdays vs. weekends?\n",
    "\n",
    "3. Which is the main street that most travellers prefer to take?\n",
    "\n",
    "4. Which directions are affected most by traffic? \n",
    "\n",
    "5. Can we graph the number of vehicles travelling in each direction for a particular street? \n",
    "\n",
    "6. What are the days when each street is most busy? \n"
   ]
  },
  {
   "cell_type": "markdown",
   "metadata": {},
   "source": [
    "## 1. Days when most counts were done on each street"
   ]
  },
  {
   "cell_type": "code",
   "execution_count": 191,
   "metadata": {},
   "outputs": [],
   "source": [
    "def combined(a):\n",
    "    return a"
   ]
  },
  {
   "cell_type": "code",
   "execution_count": 192,
   "metadata": {},
   "outputs": [
    {
     "data": {
      "text/html": [
       "<table border=\"1\" class=\"dataframe\">\n",
       "    <thead>\n",
       "        <tr>\n",
       "            <th>Street</th> <th>ID  combined</th> <th>Traffic Volume Count Location  Address combined</th> <th>Date of Count combined</th> <th>Total Passing Vehicle Volume combined</th> <th>Vehicle Volume By Each Direction of Traffic combined</th> <th>Latitude combined</th> <th>Longitude combined</th> <th>Location combined</th>\n",
       "        </tr>\n",
       "    </thead>\n",
       "    <tbody>\n",
       "        <tr>\n",
       "            <td>100th St    </td> <td>[154 155]                           </td> <td>['2701 East' '3250 East']                                   </td> <td>['05/04/2006' '05/04/2006']                                 </td> <td>[11000 12800]                              </td> <td>['East Bound: 5400 / West Bound: 5600'\n",
       " 'East Bound: 730 ...</td> <td>[41.713352 41.713772]                                       </td> <td>[-87.558074 -87.54362 ]                                     </td> <td>['(41.713352, -87.558074)' '(41.713772, -87.54362)']        </td>\n",
       "        </tr>\n",
       "        <tr>\n",
       "            <td>101st St    </td> <td>[1375]                              </td> <td>['352 West']                                                </td> <td>['10/04/2006']                                              </td> <td>[6800]                                     </td> <td>['East Bound: 4100 / West Bound: 2700']                     </td> <td>[41.710698]                                                 </td> <td>[-87.632871]                                                </td> <td>['(41.710698, -87.632871)']                                 </td>\n",
       "        </tr>\n",
       "        <tr>\n",
       "            <td>103rd St    </td> <td>[ 218  219  556 1292 1305 1306 1307]</td> <td>['235 East' '907 East' '2501 West' '646 West' '3235 West ...</td> <td>['03/28/2006' '03/22/2006' '08/24/2006' '09/06/2006' '10 ...</td> <td>[21700 17800 23600 21000 31800 19000 16900]</td> <td>['East Bound: 12300 / West Bound: 9400'\n",
       " 'East Bound: 10 ...</td> <td>[41.70726  41.707533 41.706389 41.706956 41.706174 41.70 ...</td> <td>[-87.617296 -87.600985 -87.684155 -87.639881 -87.702769  ...</td> <td>['(41.70726, -87.617296)' '(41.707533, -87.600985)'\n",
       " '(4 ...</td>\n",
       "        </tr>\n",
       "        <tr>\n",
       "            <td>103rd Street</td> <td>[216 217]                           </td> <td>['537 West' '112 West']                                     </td> <td>['03/28/2006' '03/22/2006']                                 </td> <td>[18700 18600]                              </td> <td>['East Bound: 11000 / West Bound: 7700'\n",
       " 'East Bound: 11 ...</td> <td>[41.706991 41.707125]                                       </td> <td>[-87.63698  -87.626548]                                     </td> <td>['(41.706991, -87.63698)' '(41.707125, -87.626548)']        </td>\n",
       "        </tr>\n",
       "        <tr>\n",
       "            <td>106th St    </td> <td>[420]                               </td> <td>['3541 East']                                               </td> <td>['10/18/2006']                                              </td> <td>[16500]                                    </td> <td>['East Bound: 9900 / West Bound: 6600']                     </td> <td>[41.702743]                                                 </td> <td>[-87.537314]                                                </td> <td>['(41.702743, -87.537314)']                                 </td>\n",
       "        </tr>\n",
       "        <tr>\n",
       "            <td>107th St    </td> <td>[ 470  578  812 1279 1308]          </td> <td>['738 West' '158 East' '1345 West' '121 West' '2223 West']  </td> <td>['08/29/2006' '08/29/2006' '08/24/2006' '08/29/2006' '09 ...</td> <td>[10900  8000  7900  9100  8200]            </td> <td>['East Bound: 5100 / West Bound: 5800'\n",
       " 'East Bound: 360 ...</td> <td>[41.699648 41.69994  41.699481 41.699831 41.699096]         </td> <td>[-87.641695 -87.618575 -87.656564 -87.626661 -87.6777  ]    </td> <td>['(41.699648, -87.641695)' '(41.69994, -87.618575)'\n",
       " '(4 ...</td>\n",
       "        </tr>\n",
       "        <tr>\n",
       "            <td>109th St    </td> <td>[1373]                              </td> <td>['354 West']                                                </td> <td>['10/04/2006']                                              </td> <td>[800]                                      </td> <td>['West Bound: 800/ Oneway West Bound ']                     </td> <td>[41.696116]                                                 </td> <td>[-87.632637]                                                </td> <td>['(41.696116, -87.632637)']                                 </td>\n",
       "        </tr>\n",
       "        <tr>\n",
       "            <td>111th St    </td> <td>[ 454  469  573  579 1280 1309 1310]</td> <td>['711 East' '3980 West' '2208 West' '350 East' '28 West' ...</td> <td>['08/29/2006' '08/22/2006' '08/22/2006' '08/29/2006' '08 ...</td> <td>[16500 20200 22600 12200 12800 29800 19800]</td> <td>['East Bound: 7500 / West Bound: 9000'\n",
       " 'East Bound: 970 ...</td> <td>[41.692822 41.691285 41.69184  41.692731 41.692571 41.69 ...</td> <td>[-87.605505 -87.720316 -87.676796 -87.613734 -87.624189  ...</td> <td>['(41.692822, -87.605505)' '(41.691285, -87.720316)'\n",
       " '( ...</td>\n",
       "        </tr>\n",
       "        <tr>\n",
       "            <td>112th St    </td> <td>[ 468 1293]                         </td> <td>['3455 East' '3755 East']                                   </td> <td>['10/18/2006' '10/18/2006']                                 </td> <td>[7700 6300]                                </td> <td>['East Bound: 4600 / West Bound: 3100'\n",
       " 'East Bound: 350 ...</td> <td>[41.691858 41.69183 ]                                       </td> <td>[-87.539118 -87.531879]                                     </td> <td>['(41.691858, -87.539118)' '(41.69183, -87.531879)']        </td>\n",
       "        </tr>\n",
       "        <tr>\n",
       "            <td>115th St    </td> <td>[ 813  816  840 1281 1311]          </td> <td>['1920 West' '3254 West' '40 West' '714 West' '2958 West']  </td> <td>['10/31/2006' '08/22/2006' '08/29/2006' '08/29/2006' '08 ...</td> <td>[ 6300 15500 11700 12200 12600]            </td> <td>['East Bound: 3000 / West Bound: 3300'\n",
       " 'East Bound: 810 ...</td> <td>[41.684661 41.684228 41.6853   41.685103 41.684346]         </td> <td>[-87.670012 -87.702778 -87.624481 -87.640375 -87.695367]    </td> <td>['(41.684661, -87.670012)' '(41.684228, -87.702778)'\n",
       " '( ...</td>\n",
       "        </tr>\n",
       "    </tbody>\n",
       "</table>\n",
       "<p>... (241 rows omitted)</p>"
      ],
      "text/plain": [
       "Street       | ID  combined                         | Traffic Volume Count Location  Address combined              | Date of Count combined                                       | Total Passing Vehicle Volume combined       | Vehicle Volume By Each Direction of Traffic combined         | Latitude combined                                            | Longitude combined                                           | Location combined\n",
       "100th St     | [154 155]                            | ['2701 East' '3250 East']                                    | ['05/04/2006' '05/04/2006']                                  | [11000 12800]                               | ['East Bound: 5400 / West Bound: 5600'\n",
       " 'East Bound: 730 ... | [41.713352 41.713772]                                        | [-87.558074 -87.54362 ]                                      | ['(41.713352, -87.558074)' '(41.713772, -87.54362)']\n",
       "101st St     | [1375]                               | ['352 West']                                                 | ['10/04/2006']                                               | [6800]                                      | ['East Bound: 4100 / West Bound: 2700']                      | [41.710698]                                                  | [-87.632871]                                                 | ['(41.710698, -87.632871)']\n",
       "103rd St     | [ 218  219  556 1292 1305 1306 1307] | ['235 East' '907 East' '2501 West' '646 West' '3235 West ... | ['03/28/2006' '03/22/2006' '08/24/2006' '09/06/2006' '10 ... | [21700 17800 23600 21000 31800 19000 16900] | ['East Bound: 12300 / West Bound: 9400'\n",
       " 'East Bound: 10 ... | [41.70726  41.707533 41.706389 41.706956 41.706174 41.70 ... | [-87.617296 -87.600985 -87.684155 -87.639881 -87.702769  ... | ['(41.70726, -87.617296)' '(41.707533, -87.600985)'\n",
       " '(4 ...\n",
       "103rd Street | [216 217]                            | ['537 West' '112 West']                                      | ['03/28/2006' '03/22/2006']                                  | [18700 18600]                               | ['East Bound: 11000 / West Bound: 7700'\n",
       " 'East Bound: 11 ... | [41.706991 41.707125]                                        | [-87.63698  -87.626548]                                      | ['(41.706991, -87.63698)' '(41.707125, -87.626548)']\n",
       "106th St     | [420]                                | ['3541 East']                                                | ['10/18/2006']                                               | [16500]                                     | ['East Bound: 9900 / West Bound: 6600']                      | [41.702743]                                                  | [-87.537314]                                                 | ['(41.702743, -87.537314)']\n",
       "107th St     | [ 470  578  812 1279 1308]           | ['738 West' '158 East' '1345 West' '121 West' '2223 West']   | ['08/29/2006' '08/29/2006' '08/24/2006' '08/29/2006' '09 ... | [10900  8000  7900  9100  8200]             | ['East Bound: 5100 / West Bound: 5800'\n",
       " 'East Bound: 360 ... | [41.699648 41.69994  41.699481 41.699831 41.699096]          | [-87.641695 -87.618575 -87.656564 -87.626661 -87.6777  ]     | ['(41.699648, -87.641695)' '(41.69994, -87.618575)'\n",
       " '(4 ...\n",
       "109th St     | [1373]                               | ['354 West']                                                 | ['10/04/2006']                                               | [800]                                       | ['West Bound: 800/ Oneway West Bound ']                      | [41.696116]                                                  | [-87.632637]                                                 | ['(41.696116, -87.632637)']\n",
       "111th St     | [ 454  469  573  579 1280 1309 1310] | ['711 East' '3980 West' '2208 West' '350 East' '28 West' ... | ['08/29/2006' '08/22/2006' '08/22/2006' '08/29/2006' '08 ... | [16500 20200 22600 12200 12800 29800 19800] | ['East Bound: 7500 / West Bound: 9000'\n",
       " 'East Bound: 970 ... | [41.692822 41.691285 41.69184  41.692731 41.692571 41.69 ... | [-87.605505 -87.720316 -87.676796 -87.613734 -87.624189  ... | ['(41.692822, -87.605505)' '(41.691285, -87.720316)'\n",
       " '( ...\n",
       "112th St     | [ 468 1293]                          | ['3455 East' '3755 East']                                    | ['10/18/2006' '10/18/2006']                                  | [7700 6300]                                 | ['East Bound: 4600 / West Bound: 3100'\n",
       " 'East Bound: 350 ... | [41.691858 41.69183 ]                                        | [-87.539118 -87.531879]                                      | ['(41.691858, -87.539118)' '(41.69183, -87.531879)']\n",
       "115th St     | [ 813  816  840 1281 1311]           | ['1920 West' '3254 West' '40 West' '714 West' '2958 West']   | ['10/31/2006' '08/22/2006' '08/29/2006' '08/29/2006' '08 ... | [ 6300 15500 11700 12200 12600]             | ['East Bound: 3000 / West Bound: 3300'\n",
       " 'East Bound: 810 ... | [41.684661 41.684228 41.6853   41.685103 41.684346]          | [-87.670012 -87.702778 -87.624481 -87.640375 -87.695367]     | ['(41.684661, -87.670012)' '(41.684228, -87.702778)'\n",
       " '( ...\n",
       "... (241 rows omitted)"
      ]
     },
     "execution_count": 192,
     "metadata": {},
     "output_type": "execute_result"
    }
   ],
   "source": [
    "traffic_data_combined = average_daily_traffic_data.group('Street', combined)\n",
    "traffic_data_combined"
   ]
  },
  {
   "cell_type": "code",
   "execution_count": 193,
   "metadata": {},
   "outputs": [],
   "source": [
    "def no_duplicates(duplicate): \n",
    "    list_result = [] \n",
    "    for num in duplicate: \n",
    "        if num not in list_result: \n",
    "            list_result.append(num) \n",
    "    return list_result"
   ]
  },
  {
   "cell_type": "code",
   "execution_count": 194,
   "metadata": {
    "scrolled": true
   },
   "outputs": [
    {
     "data": {
      "text/html": [
       "<table border=\"1\" class=\"dataframe\">\n",
       "    <thead>\n",
       "        <tr>\n",
       "            <th>Street</th> <th>Most Counts Day</th> <th>Total # of counts</th>\n",
       "        </tr>\n",
       "    </thead>\n",
       "    <tbody>\n",
       "        <tr>\n",
       "            <td>100th St    </td> <td>Thursday       </td> <td>2                </td>\n",
       "        </tr>\n",
       "        <tr>\n",
       "            <td>101st St    </td> <td>Wednesday      </td> <td>1                </td>\n",
       "        </tr>\n",
       "        <tr>\n",
       "            <td>103rd St    </td> <td>Tuesday        </td> <td>7                </td>\n",
       "        </tr>\n",
       "        <tr>\n",
       "            <td>103rd Street</td> <td>Tuesday        </td> <td>2                </td>\n",
       "        </tr>\n",
       "        <tr>\n",
       "            <td>106th St    </td> <td>Wednesday      </td> <td>1                </td>\n",
       "        </tr>\n",
       "        <tr>\n",
       "            <td>107th St    </td> <td>Tuesday        </td> <td>5                </td>\n",
       "        </tr>\n",
       "        <tr>\n",
       "            <td>109th St    </td> <td>Wednesday      </td> <td>1                </td>\n",
       "        </tr>\n",
       "        <tr>\n",
       "            <td>111th St    </td> <td>Tuesday        </td> <td>7                </td>\n",
       "        </tr>\n",
       "        <tr>\n",
       "            <td>112th St    </td> <td>Wednesday      </td> <td>2                </td>\n",
       "        </tr>\n",
       "        <tr>\n",
       "            <td>115th St    </td> <td>Tuesday        </td> <td>5                </td>\n",
       "        </tr>\n",
       "    </tbody>\n",
       "</table>\n",
       "<p>... (241 rows omitted)</p>"
      ],
      "text/plain": [
       "Street       | Most Counts Day | Total # of counts\n",
       "100th St     | Thursday        | 2\n",
       "101st St     | Wednesday       | 1\n",
       "103rd St     | Tuesday         | 7\n",
       "103rd Street | Tuesday         | 2\n",
       "106th St     | Wednesday       | 1\n",
       "107th St     | Tuesday         | 5\n",
       "109th St     | Wednesday       | 1\n",
       "111th St     | Tuesday         | 7\n",
       "112th St     | Wednesday       | 2\n",
       "115th St     | Tuesday         | 5\n",
       "... (241 rows omitted)"
      ]
     },
     "execution_count": 194,
     "metadata": {},
     "output_type": "execute_result"
    }
   ],
   "source": [
    "most_busy_on = list()\n",
    "total_counts=list()\n",
    "for arr in traffic_data_combined.column('Date of Count combined'):\n",
    "    corresponding_day = list()\n",
    "    for entry in no_duplicates(arr):\n",
    "        split_str = entry.split('/')\n",
    "        mm =  int(split_str.pop(0))\n",
    "        dd = int(split_str.pop(0))\n",
    "        yyyy = int(split_str.pop(0))\n",
    "        my_date = datetime.date(yyyy,mm,dd)\n",
    "        corresponding_day.append(calendar.day_name[my_date.weekday()])\n",
    "\n",
    "    most_busy_on.append(max(corresponding_day,key=corresponding_day.count))\n",
    "    total_counts.append(len(arr))\n",
    "\n",
    "traffic_data_combined = traffic_data_combined.with_column('Most Counts Day', most_busy_on, 'Total # of counts', total_counts).select('Street','Most Counts Day','Total # of counts')\n",
    "traffic_data_combined"
   ]
  },
  {
   "cell_type": "markdown",
   "metadata": {},
   "source": [
    "Input Text"
   ]
  },
  {
   "cell_type": "code",
   "execution_count": null,
   "metadata": {},
   "outputs": [],
   "source": []
  }
 ],
 "metadata": {
  "kernelspec": {
   "display_name": "Python 3",
   "language": "python",
   "name": "python3"
  },
  "language_info": {
   "codemirror_mode": {
    "name": "ipython",
    "version": 3
   },
   "file_extension": ".py",
   "mimetype": "text/x-python",
   "name": "python",
   "nbconvert_exporter": "python",
   "pygments_lexer": "ipython3",
   "version": "3.6.5"
  }
 },
 "nbformat": 4,
 "nbformat_minor": 2
}
